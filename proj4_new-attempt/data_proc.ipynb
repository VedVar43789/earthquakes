{
 "cells": [
  {
   "cell_type": "code",
   "execution_count": 1,
   "metadata": {},
   "outputs": [
    {
     "ename": "ModuleNotFoundError",
     "evalue": "No module named 'pycountry'",
     "output_type": "error",
     "traceback": [
      "\u001b[0;31m---------------------------------------------------------------------------\u001b[0m",
      "\u001b[0;31mModuleNotFoundError\u001b[0m                       Traceback (most recent call last)",
      "Cell \u001b[0;32mIn[1], line 3\u001b[0m\n\u001b[1;32m      1\u001b[0m \u001b[38;5;28;01mimport\u001b[39;00m \u001b[38;5;21;01mpandas\u001b[39;00m \u001b[38;5;28;01mas\u001b[39;00m \u001b[38;5;21;01mpd\u001b[39;00m\n\u001b[1;32m      2\u001b[0m \u001b[38;5;28;01mimport\u001b[39;00m \u001b[38;5;21;01mnumpy\u001b[39;00m \u001b[38;5;28;01mas\u001b[39;00m \u001b[38;5;21;01mnp\u001b[39;00m\n\u001b[0;32m----> 3\u001b[0m \u001b[38;5;28;01mimport\u001b[39;00m \u001b[38;5;21;01mpycountry\u001b[39;00m\n\u001b[1;32m      5\u001b[0m \u001b[38;5;66;03m# ── 1) Load your NOAA earthquake CSV into a DataFrame ─────────────────────────────\u001b[39;00m\n\u001b[1;32m      6\u001b[0m df \u001b[38;5;241m=\u001b[39m pd\u001b[38;5;241m.\u001b[39mread_csv(\u001b[38;5;124m\"\u001b[39m\u001b[38;5;124mearthquakes.csv\u001b[39m\u001b[38;5;124m\"\u001b[39m)\n",
      "\u001b[0;31mModuleNotFoundError\u001b[0m: No module named 'pycountry'"
     ]
    }
   ],
   "source": [
    "import pandas as pd\n",
    "import numpy as np\n",
    "import pycountry\n",
    "\n",
    "# ── 1) Load your NOAA earthquake CSV into a DataFrame ─────────────────────────────\n",
    "df = pd.read_csv(\"earthquakes.csv\")\n",
    "df.columns = [c.strip() for c in df.columns]\n",
    "\n",
    "# ── 2) Fill NaNs with zero for our outcome fields ────────────────────────────────\n",
    "required = [\"Total Deaths\", \"Total Injuries\", \"Total Damage ($Mil)\", \"Total Houses Destroyed\", \"Mag\"]\n",
    "for col in required:\n",
    "    if col not in df.columns:\n",
    "        raise KeyError(f\"Column '{col}' not found in DataFrame.\")\n",
    "    df[col] = df[col].fillna(0)\n",
    "\n",
    "# ── 3) Extract ISO3 country codes from \"Location Name\" ───────────────────────────\n",
    "def extract_iso3(location):\n",
    "    try:\n",
    "        country_name = location.split(\",\")[-1].strip()\n",
    "        return pycountry.countries.lookup(country_name).alpha_3\n",
    "    except Exception:\n",
    "        return np.nan\n",
    "\n",
    "df[\"CountryISO3\"] = df[\"Location Name\"].apply(extract_iso3)\n",
    "df = df.dropna(subset=[\"CountryISO3\"])  # drop rows we couldn't map\n",
    "\n",
    "# ── 4) Filter out low-magnitude events (only true stress tests) ──────────────────\n",
    "df = df[df[\"Mag\"] >= 4.5].copy()\n",
    "\n",
    "# ── 5) Min–max normalize each series to [0,1] ───────────────────────────────────\n",
    "def normalize(s: pd.Series) -> pd.Series:\n",
    "    mn, mx = s.min(), s.max()\n",
    "    return (s - mn) / (mx - mn) if mx > mn else pd.Series(0, index=s.index)\n",
    "\n",
    "df[\"Deaths_n\"]           = normalize(df[\"Total Deaths\"])\n",
    "df[\"Injuries_n\"]         = normalize(df[\"Total Injuries\"])\n",
    "df[\"Damage_n\"]           = normalize(df[\"Total Damage ($Mil)\"])\n",
    "df[\"HousesDestroyed_n\"]  = normalize(df[\"Total Houses Destroyed\"])\n",
    "df[\"Mag_n\"]              = normalize(df[\"Mag\"])\n",
    "\n",
    "# ── 6) Compute raw vulnerability & event-level InfraScore ────────────────────────\n",
    "df[\"V_raw\"]      = (df[\"Deaths_n\"] + df[\"Injuries_n\"] + df[\"Damage_n\"] + df[\"HousesDestroyed_n\"]) / 4\n",
    "eps             = 1e-6\n",
    "df[\"V_event\"]    = df[\"V_raw\"] / (df[\"Mag_n\"] + eps)\n",
    "df[\"InfraScore_event\"] = 1.0 / (1.0 + df[\"V_event\"])\n",
    "\n",
    "# ── 7) Aggregate to country level with magnitude-weighted averaging ─────────────\n",
    "df_country = (\n",
    "    df\n",
    "    .groupby(\"CountryISO3\")\n",
    "    .apply(lambda grp: np.average(grp[\"InfraScore_event\"], weights=grp[\"Mag_n\"]))\n",
    "    .reset_index(name=\"InfraScore_country\")\n",
    ")\n",
    "\n",
    "# ── 8) Inspect top/bottom countries ──────────────────────────────────────────────\n",
    "print(\"Top 10 countries by InfraScore:\")\n",
    "print(df_country.sort_values(\"InfraScore_country\", ascending=False).head(10))\n",
    "\n",
    "print(\"\\nBottom 10 countries by InfraScore:\")\n",
    "print(df_country.sort_values(\"InfraScore_country\", ascending=True).head(10))\n"
   ]
  },
  {
   "cell_type": "code",
   "execution_count": null,
   "metadata": {},
   "outputs": [],
   "source": []
  }
 ],
 "metadata": {
  "kernelspec": {
   "display_name": "Python 3",
   "language": "python",
   "name": "python3"
  },
  "language_info": {
   "codemirror_mode": {
    "name": "ipython",
    "version": 3
   },
   "file_extension": ".py",
   "mimetype": "text/x-python",
   "name": "python",
   "nbconvert_exporter": "python",
   "pygments_lexer": "ipython3",
   "version": "3.12.1"
  }
 },
 "nbformat": 4,
 "nbformat_minor": 2
}
